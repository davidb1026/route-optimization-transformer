{
  "nbformat": 4,
  "nbformat_minor": 0,
  "metadata": {
    "colab": {
      "provenance": [],
      "authorship_tag": "ABX9TyOa1TZWzSIIY8Q1EIDbfJMv",
      "include_colab_link": true
    },
    "kernelspec": {
      "name": "python3",
      "display_name": "Python 3"
    },
    "language_info": {
      "name": "python"
    }
  },
  "cells": [
    {
      "cell_type": "markdown",
      "metadata": {
        "id": "view-in-github",
        "colab_type": "text"
      },
      "source": [
        "<a href=\"https://colab.research.google.com/github/davidb1026/route-optimization-transformer/blob/main/vanilla_transformer.ipynb\" target=\"_parent\"><img src=\"https://colab.research.google.com/assets/colab-badge.svg\" alt=\"Open In Colab\"/></a>"
      ]
    },
    {
      "cell_type": "code",
      "execution_count": null,
      "metadata": {
        "id": "87McoqUZHOmb"
      },
      "outputs": [],
      "source": [
        "import torch\n",
        "import torch.nn as nn\n",
        "import torch.optim as optim\n",
        "import numpy as np"
      ]
    },
    {
      "cell_type": "code",
      "source": [
        "# Create simple sine wave dataset. Label is the next data point\n",
        "\n",
        "def generate_data(seq_length, num_samples):\n",
        "    x = np.linspace(0, 100, num_samples)\n",
        "    data = np.sin(x)\n",
        "    sequences = []\n",
        "    for i in range(len(data) - seq_length):\n",
        "      seq = data[i:i+seq_length]\n",
        "      label = data[i+seq_length]\n",
        "      sequences.append((seq, label))\n",
        "    return sequences"
      ],
      "metadata": {
        "id": "gdlL51QvLQif"
      },
      "execution_count": null,
      "outputs": []
    },
    {
      "cell_type": "code",
      "source": [
        "# Set dataset parameters\n",
        "\n",
        "seq_length = 20\n",
        "num_samples = 1000\n",
        "data = generate_data(seq_length, num_samples)"
      ],
      "metadata": {
        "id": "p9PQoBXkL62G"
      },
      "execution_count": null,
      "outputs": []
    },
    {
      "cell_type": "code",
      "source": [
        "# Split into train and test sets\n",
        "\n",
        "train_size = int(0.8 * len(data))\n",
        "train_data = data[:train_size]\n",
        "test_data = data[train_size:]"
      ],
      "metadata": {
        "id": "J57PQxouLTyS"
      },
      "execution_count": null,
      "outputs": []
    },
    {
      "cell_type": "code",
      "source": [
        "# Create PyTorch tensors for train and test data\n",
        "\n",
        "def to_tensor(data):\n",
        "  sequences, labels = zip(*data)\n",
        "\n",
        "  return torch.tensor(sequences, dtype=torch.float32), torch.tensor(labels, dtype=torch.float32)\n",
        "\n",
        "train_sequences, train_labels = to_tensor(train_data)\n",
        "test_sequences, test_labels = to_tensor(test_data)"
      ],
      "metadata": {
        "id": "EWmilY6RL0u4"
      },
      "execution_count": null,
      "outputs": []
    },
    {
      "cell_type": "code",
      "source": [
        "# Define Transformer Model\n",
        "\n",
        "class TransformerModel(nn.Module):\n",
        "\n",
        "  def __init__(self, input_dim, model_dim, num_heads, num_layers, dropout=0.1):\n",
        "\n",
        "    super(TransformerModel, self).__init__()\n",
        "    self.model_dim = model_dim\n",
        "    self.input_layer = nn.Linear(input_dim, model_dim)\n",
        "    self.pos_encoder = nn.Parameter(torch.zeros(1, seq_length, model_dim))\n",
        "    self.transformer = nn.Transformer(d_model=model_dim,\n",
        "                                      nhead=num_heads,\n",
        "                                      num_encoder_layers=num_layers,\n",
        "                                      num_decoder_layers=num_layers,\n",
        "                                      dropout=dropout\n",
        "                                      )\n",
        "    self.output_layer = nn.Linear(model_dim, 1)\n",
        "\n",
        "    def forward(self, x):\n",
        "      x = self.input_layer(x) * np.sqrt(self.mode)\n",
        "      x += self.pos_encoder\n",
        "      x = self.transformer(x, x)\n",
        "      x = self.output_layer(x)\n",
        "\n",
        "      return x"
      ],
      "metadata": {
        "id": "2Sa3a71qT9lm"
      },
      "execution_count": null,
      "outputs": []
    },
    {
      "cell_type": "code",
      "source": [
        "# Set model parameters\n",
        "\n",
        "input_dim = 1  # a number\n",
        "model_dim = 64  # small model\n",
        "num_heads = 8\n",
        "num_layers = 3\n",
        "dropout = 0.1\n",
        "\n",
        "model = TransformerModel(input_dim, model_dim,\n",
        "                         num_heads, num_layers, dropout)"
      ],
      "metadata": {
        "id": "_4ytUm9EeZte"
      },
      "execution_count": null,
      "outputs": []
    },
    {
      "cell_type": "code",
      "source": [
        "# Train the model\n",
        "\n",
        "# Loss function and optimizer\n",
        "criterion = nn.MSELoss()\n",
        "optimizer = optim.Adam(model.parameters(), lr=0.001)\n",
        "\n",
        "# Training loop\n",
        "num_epochs = 50\n",
        "model.train()\n",
        "\n",
        "for epoch in range(num_epochs):\n",
        "  optimizer.zero_grad()\n",
        "  output = model(train_sequences.unsqueeze(-1))\n",
        "  loss = criterion(output.squeecze(), train_labels)\n",
        "  loss.backward()\n",
        "  optimizer.step()\n",
        "\n",
        "if (epoch + 1) % 10 == 0:\n",
        "  print(f'Epoch [{epoch + 1}/{num_epochs}], Loss: {loss.item():.4f}')"
      ],
      "metadata": {
        "id": "Fuk6Q3uxagmp"
      },
      "execution_count": null,
      "outputs": []
    },
    {
      "cell_type": "code",
      "source": [
        "# Evaluate the model\n",
        "\n",
        "# Evaluation\n",
        "model.eval()\n",
        "with torch.no_grad():\n",
        "  predictions = model(test_sequences.unsqueeze(-1)).squeeze()\n",
        "  test_loss = criterion(predictions, test_labels)\n",
        "  print(f'Test Loss: {test_loss.item():.4f}')\n"
      ],
      "metadata": {
        "id": "A2BG42zjdqvm"
      },
      "execution_count": null,
      "outputs": []
    },
    {
      "cell_type": "code",
      "source": [
        "# Plot results\n",
        "import matplotlib.pyplot as plt\n",
        "\n",
        "plt.plot(test_labels.numpy(), label='True')\n",
        "plt.plot(predictions.numpy(), label='Predicted')\n",
        "plt.legend()\n",
        "plt.show()"
      ],
      "metadata": {
        "id": "D2OnARwUfCS6"
      },
      "execution_count": null,
      "outputs": []
    }
  ]
}