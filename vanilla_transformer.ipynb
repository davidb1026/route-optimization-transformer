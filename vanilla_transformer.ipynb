{
  "nbformat": 4,
  "nbformat_minor": 0,
  "metadata": {
    "colab": {
      "provenance": [],
      "authorship_tag": "ABX9TyO1/DEilR05JbGUj1qSgj2V",
      "include_colab_link": true
    },
    "kernelspec": {
      "name": "python3",
      "display_name": "Python 3"
    },
    "language_info": {
      "name": "python"
    }
  },
  "cells": [
    {
      "cell_type": "markdown",
      "metadata": {
        "id": "view-in-github",
        "colab_type": "text"
      },
      "source": [
        "<a href=\"https://colab.research.google.com/github/davidb1026/route-optimization-transformer/blob/main/vanilla_transformer.ipynb\" target=\"_parent\"><img src=\"https://colab.research.google.com/assets/colab-badge.svg\" alt=\"Open In Colab\"/></a>"
      ]
    },
    {
      "cell_type": "code",
      "execution_count": null,
      "metadata": {
        "id": "87McoqUZHOmb"
      },
      "outputs": [],
      "source": [
        "import torch\n",
        "import torch.nn as nn\n",
        "import torch.optim as optim\n",
        "import numpy as np"
      ]
    },
    {
      "cell_type": "code",
      "source": [
        "# Create simple sine wave dataset. Label is the next data point\n",
        "\n",
        "def generate_data(seq_length, num_samples):\n",
        "    x = np.linspace(0, 100, num_samples)\n",
        "    data = np.sin(x)\n",
        "    sequences = []\n",
        "    for i in range(len(data) - seq_length):\n",
        "      seq = data[i:i+seq_length]\n",
        "      label = data[i+seq_length]\n",
        "      sequences.append((seq, label))\n",
        "    return sequences"
      ],
      "metadata": {
        "id": "gdlL51QvLQif"
      },
      "execution_count": null,
      "outputs": []
    },
    {
      "cell_type": "code",
      "source": [
        "# Set dataset parameters\n",
        "\n",
        "seq_length = 20\n",
        "num_samples = 1000\n",
        "data = generate_data(seq_length, num_samples)"
      ],
      "metadata": {
        "id": "p9PQoBXkL62G"
      },
      "execution_count": null,
      "outputs": []
    },
    {
      "cell_type": "code",
      "source": [
        "# Split into train and test sets\n",
        "\n",
        "train_size = int(0.8 * len(data))\n",
        "train_data = data[:train_size]\n",
        "test_data = data[train_size:]"
      ],
      "metadata": {
        "id": "J57PQxouLTyS"
      },
      "execution_count": null,
      "outputs": []
    },
    {
      "cell_type": "code",
      "source": [
        "# Create PyTorch tensors for train and test data\n",
        "\n",
        "def to_tensor(data):\n",
        "  sequences, labels = zip(*data)\n",
        "\n",
        "  return torch.tensor(sequences, dtype=torch.float32), torch.tensor(labels, dtype=torch.float32)\n",
        "\n",
        "train_sequences, train_labels = to_tensor(train_data)\n",
        "test_sequences, test_labels = to_tensor(test_data)"
      ],
      "metadata": {
        "id": "EWmilY6RL0u4"
      },
      "execution_count": null,
      "outputs": []
    },
    {
      "cell_type": "code",
      "source": [],
      "metadata": {
        "id": "2Sa3a71qT9lm"
      },
      "execution_count": null,
      "outputs": []
    }
  ]
}